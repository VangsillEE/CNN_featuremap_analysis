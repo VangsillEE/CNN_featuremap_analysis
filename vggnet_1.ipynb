{
 "cells": [
  {
   "cell_type": "code",
   "execution_count": 29,
   "metadata": {
    "executionInfo": {
     "elapsed": 5160,
     "status": "ok",
     "timestamp": 1692882864338,
     "user": {
      "displayName": "오형석",
      "userId": "15467781297373713645"
     },
     "user_tz": -540
    },
    "id": "3wu0SY76-fQw"
   },
   "outputs": [],
   "source": [
    "import numpy as np\n",
    "\n",
    "import torch\n",
    "import torch.nn as nn\n",
    "import torch.optim as optim\n",
    "import torchvision\n",
    "import torchvision.transforms as transforms\n",
    "import torchvision.models as models\n",
    "\n",
    "import random\n",
    "\n",
    "import matplotlib.pyplot as plt"
   ]
  },
  {
   "cell_type": "code",
   "execution_count": 38,
   "metadata": {},
   "outputs": [
    {
     "name": "stdout",
     "output_type": "stream",
     "text": [
      "hi\n"
     ]
    }
   ],
   "source": [
    "print(\"hi\")"
   ]
  },
  {
   "cell_type": "code",
   "execution_count": 16,
   "metadata": {
    "colab": {
     "base_uri": "https://localhost:8080/",
     "height": 35
    },
    "executionInfo": {
     "elapsed": 5,
     "status": "ok",
     "timestamp": 1692882864339,
     "user": {
      "displayName": "오형석",
      "userId": "15467781297373713645"
     },
     "user_tz": -540
    },
    "id": "wJaWEDw3-fQy",
    "outputId": "761546f4-c09f-4c7f-96df-ffe8f3adfee7"
   },
   "outputs": [
    {
     "data": {
      "text/plain": [
       "'C:\\\\Users\\\\hsoh'"
      ]
     },
     "execution_count": 16,
     "metadata": {},
     "output_type": "execute_result"
    }
   ],
   "source": [
    "%pwd"
   ]
  },
  {
   "cell_type": "code",
   "execution_count": 17,
   "metadata": {
    "executionInfo": {
     "elapsed": 6,
     "status": "ok",
     "timestamp": 1692856576476,
     "user": {
      "displayName": "오형석",
      "userId": "15467781297373713645"
     },
     "user_tz": -540
    },
    "id": "wXKbuZ70-fQy"
   },
   "outputs": [],
   "source": [
    "random_seed = 42\n",
    "torch.manual_seed(random_seed)\n",
    "random.seed(random_seed)"
   ]
  },
  {
   "cell_type": "code",
   "execution_count": 35,
   "metadata": {
    "executionInfo": {
     "elapsed": 3,
     "status": "ok",
     "timestamp": 1692856576793,
     "user": {
      "displayName": "오형석",
      "userId": "15467781297373713645"
     },
     "user_tz": -540
    },
    "id": "w_xc_MIL-fQz"
   },
   "outputs": [],
   "source": [
    "transform = transforms.Compose([\n",
    "    transforms.Resize((224, 224)),  # 이미지 크기를 VGGNet의 입력 크기로 변경\n",
    "    transforms.ToTensor(),\n",
    "    transforms.Normalize((0.5, 0.5, 0.5), (0.5, 0.5, 0.5))\n",
    "])"
   ]
  },
  {
   "cell_type": "code",
   "execution_count": 36,
   "metadata": {
    "colab": {
     "base_uri": "https://localhost:8080/"
    },
    "executionInfo": {
     "elapsed": 1503,
     "status": "ok",
     "timestamp": 1692856578294,
     "user": {
      "displayName": "오형석",
      "userId": "15467781297373713645"
     },
     "user_tz": -540
    },
    "id": "8Xl7BQD6-fQz",
    "outputId": "4f22967e-97e9-4871-c55a-66acc3363eca"
   },
   "outputs": [],
   "source": [
    "trainset = torchvision.datasets.CIFAR10(root='./data', train=True, download=False, transform=transform)\n",
    "trainloader = torch.utils.data.DataLoader(trainset, batch_size=64, shuffle=True)"
   ]
  },
  {
   "cell_type": "code",
   "execution_count": 39,
   "metadata": {
    "colab": {
     "base_uri": "https://localhost:8080/"
    },
    "executionInfo": {
     "elapsed": 2238,
     "status": "ok",
     "timestamp": 1692856580529,
     "user": {
      "displayName": "오형석",
      "userId": "15467781297373713645"
     },
     "user_tz": -540
    },
    "id": "zzMDe959-fQz",
    "outputId": "30d64a19-7c8b-430e-f55b-536e1554e48c",
    "scrolled": true
   },
   "outputs": [
    {
     "data": {
      "text/plain": [
       "VGG(\n",
       "  (features): Sequential(\n",
       "    (0): Conv2d(3, 64, kernel_size=(3, 3), stride=(1, 1), padding=(1, 1))\n",
       "    (1): ReLU(inplace=True)\n",
       "    (2): Conv2d(64, 64, kernel_size=(3, 3), stride=(1, 1), padding=(1, 1))\n",
       "    (3): ReLU(inplace=True)\n",
       "    (4): MaxPool2d(kernel_size=2, stride=2, padding=0, dilation=1, ceil_mode=False)\n",
       "    (5): Conv2d(64, 128, kernel_size=(3, 3), stride=(1, 1), padding=(1, 1))\n",
       "    (6): ReLU(inplace=True)\n",
       "    (7): Conv2d(128, 128, kernel_size=(3, 3), stride=(1, 1), padding=(1, 1))\n",
       "    (8): ReLU(inplace=True)\n",
       "    (9): MaxPool2d(kernel_size=2, stride=2, padding=0, dilation=1, ceil_mode=False)\n",
       "    (10): Conv2d(128, 256, kernel_size=(3, 3), stride=(1, 1), padding=(1, 1))\n",
       "    (11): ReLU(inplace=True)\n",
       "    (12): Conv2d(256, 256, kernel_size=(3, 3), stride=(1, 1), padding=(1, 1))\n",
       "    (13): ReLU(inplace=True)\n",
       "    (14): Conv2d(256, 256, kernel_size=(3, 3), stride=(1, 1), padding=(1, 1))\n",
       "    (15): ReLU(inplace=True)\n",
       "    (16): MaxPool2d(kernel_size=2, stride=2, padding=0, dilation=1, ceil_mode=False)\n",
       "    (17): Conv2d(256, 512, kernel_size=(3, 3), stride=(1, 1), padding=(1, 1))\n",
       "    (18): ReLU(inplace=True)\n",
       "    (19): Conv2d(512, 512, kernel_size=(3, 3), stride=(1, 1), padding=(1, 1))\n",
       "    (20): ReLU(inplace=True)\n",
       "    (21): Conv2d(512, 512, kernel_size=(3, 3), stride=(1, 1), padding=(1, 1))\n",
       "    (22): ReLU(inplace=True)\n",
       "    (23): MaxPool2d(kernel_size=2, stride=2, padding=0, dilation=1, ceil_mode=False)\n",
       "    (24): Conv2d(512, 512, kernel_size=(3, 3), stride=(1, 1), padding=(1, 1))\n",
       "    (25): ReLU(inplace=True)\n",
       "    (26): Conv2d(512, 512, kernel_size=(3, 3), stride=(1, 1), padding=(1, 1))\n",
       "    (27): ReLU(inplace=True)\n",
       "    (28): Conv2d(512, 512, kernel_size=(3, 3), stride=(1, 1), padding=(1, 1))\n",
       "    (29): ReLU(inplace=True)\n",
       "    (30): MaxPool2d(kernel_size=2, stride=2, padding=0, dilation=1, ceil_mode=False)\n",
       "  )\n",
       "  (avgpool): AdaptiveAvgPool2d(output_size=(7, 7))\n",
       "  (classifier): Sequential(\n",
       "    (0): Linear(in_features=25088, out_features=4096, bias=True)\n",
       "    (1): ReLU(inplace=True)\n",
       "    (2): Dropout(p=0.5, inplace=False)\n",
       "    (3): Linear(in_features=4096, out_features=4096, bias=True)\n",
       "    (4): ReLU(inplace=True)\n",
       "    (5): Dropout(p=0.5, inplace=False)\n",
       "    (6): Linear(in_features=4096, out_features=10, bias=True)\n",
       "  )\n",
       ")"
      ]
     },
     "execution_count": 39,
     "metadata": {},
     "output_type": "execute_result"
    }
   ],
   "source": [
    "vgg16 = models.vgg16(pretrained=False)\n",
    "vgg16.classifier[6] = nn.Linear(4096, 10)\n",
    "\n",
    "device = torch.device(\"cuda\" if torch.cuda.is_available() else \"cpu\")\n",
    "vgg16.to(device)"
   ]
  },
  {
   "cell_type": "code",
   "execution_count": 21,
   "metadata": {
    "colab": {
     "base_uri": "https://localhost:8080/"
    },
    "executionInfo": {
     "elapsed": 242,
     "status": "ok",
     "timestamp": 1692856581620,
     "user": {
      "displayName": "오형석",
      "userId": "15467781297373713645"
     },
     "user_tz": -540
    },
    "id": "uVqjreuC-fQy",
    "outputId": "f91d2a47-a0f9-4aa4-b047-0846715d5c1a",
    "scrolled": true
   },
   "outputs": [
    {
     "name": "stdout",
     "output_type": "stream",
     "text": [
      "Layer name: features\n",
      "Sequential(\n",
      "  (0): Conv2d(3, 64, kernel_size=(3, 3), stride=(1, 1), padding=(1, 1))\n",
      "  (1): ReLU(inplace=True)\n",
      "  (2): Conv2d(64, 64, kernel_size=(3, 3), stride=(1, 1), padding=(1, 1))\n",
      "  (3): ReLU(inplace=True)\n",
      "  (4): MaxPool2d(kernel_size=2, stride=2, padding=0, dilation=1, ceil_mode=False)\n",
      "  (5): Conv2d(64, 128, kernel_size=(3, 3), stride=(1, 1), padding=(1, 1))\n",
      "  (6): ReLU(inplace=True)\n",
      "  (7): Conv2d(128, 128, kernel_size=(3, 3), stride=(1, 1), padding=(1, 1))\n",
      "  (8): ReLU(inplace=True)\n",
      "  (9): MaxPool2d(kernel_size=2, stride=2, padding=0, dilation=1, ceil_mode=False)\n",
      "  (10): Conv2d(128, 256, kernel_size=(3, 3), stride=(1, 1), padding=(1, 1))\n",
      "  (11): ReLU(inplace=True)\n",
      "  (12): Conv2d(256, 256, kernel_size=(3, 3), stride=(1, 1), padding=(1, 1))\n",
      "  (13): ReLU(inplace=True)\n",
      "  (14): Conv2d(256, 256, kernel_size=(3, 3), stride=(1, 1), padding=(1, 1))\n",
      "  (15): ReLU(inplace=True)\n",
      "  (16): MaxPool2d(kernel_size=2, stride=2, padding=0, dilation=1, ceil_mode=False)\n",
      "  (17): Conv2d(256, 512, kernel_size=(3, 3), stride=(1, 1), padding=(1, 1))\n",
      "  (18): ReLU(inplace=True)\n",
      "  (19): Conv2d(512, 512, kernel_size=(3, 3), stride=(1, 1), padding=(1, 1))\n",
      "  (20): ReLU(inplace=True)\n",
      "  (21): Conv2d(512, 512, kernel_size=(3, 3), stride=(1, 1), padding=(1, 1))\n",
      "  (22): ReLU(inplace=True)\n",
      "  (23): MaxPool2d(kernel_size=2, stride=2, padding=0, dilation=1, ceil_mode=False)\n",
      "  (24): Conv2d(512, 512, kernel_size=(3, 3), stride=(1, 1), padding=(1, 1))\n",
      "  (25): ReLU(inplace=True)\n",
      "  (26): Conv2d(512, 512, kernel_size=(3, 3), stride=(1, 1), padding=(1, 1))\n",
      "  (27): ReLU(inplace=True)\n",
      "  (28): Conv2d(512, 512, kernel_size=(3, 3), stride=(1, 1), padding=(1, 1))\n",
      "  (29): ReLU(inplace=True)\n",
      "  (30): MaxPool2d(kernel_size=2, stride=2, padding=0, dilation=1, ceil_mode=False)\n",
      ")\n",
      "Layer name: avgpool\n",
      "AdaptiveAvgPool2d(output_size=(7, 7))\n",
      "Layer name: classifier\n",
      "Sequential(\n",
      "  (0): Linear(in_features=25088, out_features=4096, bias=True)\n",
      "  (1): ReLU(inplace=True)\n",
      "  (2): Dropout(p=0.5, inplace=False)\n",
      "  (3): Linear(in_features=4096, out_features=4096, bias=True)\n",
      "  (4): ReLU(inplace=True)\n",
      "  (5): Dropout(p=0.5, inplace=False)\n",
      "  (6): Linear(in_features=4096, out_features=10, bias=True)\n",
      ")\n"
     ]
    }
   ],
   "source": [
    "# 각 레이어의 정보 출력\n",
    "for name, layer in vgg16.named_children():\n",
    "    print(f\"Layer name: {name}\")\n",
    "    print(layer)"
   ]
  },
  {
   "cell_type": "code",
   "execution_count": 22,
   "metadata": {
    "executionInfo": {
     "elapsed": 3,
     "status": "ok",
     "timestamp": 1692856583522,
     "user": {
      "displayName": "오형석",
      "userId": "15467781297373713645"
     },
     "user_tz": -540
    },
    "id": "5ZN9O8eN-fQz"
   },
   "outputs": [],
   "source": [
    "model_state_dict = vgg16.state_dict()"
   ]
  },
  {
   "cell_type": "code",
   "execution_count": 23,
   "metadata": {
    "colab": {
     "base_uri": "https://localhost:8080/"
    },
    "executionInfo": {
     "elapsed": 3,
     "status": "ok",
     "timestamp": 1692856583925,
     "user": {
      "displayName": "오형석",
      "userId": "15467781297373713645"
     },
     "user_tz": -540
    },
    "id": "HT_ZZnVA-fQz",
    "outputId": "2ef0ad32-3699-45e0-96bd-c508e5de7152"
   },
   "outputs": [
    {
     "data": {
      "text/plain": [
       "torch.Size([64, 3, 3, 3])"
      ]
     },
     "execution_count": 23,
     "metadata": {},
     "output_type": "execute_result"
    }
   ],
   "source": [
    "model_state_dict[\"features.0.weight\"].size()"
   ]
  },
  {
   "cell_type": "code",
   "execution_count": 40,
   "metadata": {},
   "outputs": [],
   "source": [
    "checkpoint_path = f\"model_1_inital.pth\"\n",
    "torch.save(vgg16.state_dict(), checkpoint_path)"
   ]
  },
  {
   "cell_type": "code",
   "execution_count": 24,
   "metadata": {
    "executionInfo": {
     "elapsed": 2,
     "status": "ok",
     "timestamp": 1692856584266,
     "user": {
      "displayName": "오형석",
      "userId": "15467781297373713645"
     },
     "user_tz": -540
    },
    "id": "qx8gzcCE-fQ0"
   },
   "outputs": [],
   "source": [
    "criterion = nn.CrossEntropyLoss()\n",
    "optimizer = optim.Adam(vgg16.parameters(), lr=0.0001)"
   ]
  },
  {
   "cell_type": "code",
   "execution_count": 25,
   "metadata": {
    "colab": {
     "base_uri": "https://localhost:8080/"
    },
    "executionInfo": {
     "elapsed": 744148,
     "status": "ok",
     "timestamp": 1692857329124,
     "user": {
      "displayName": "오형석",
      "userId": "15467781297373713645"
     },
     "user_tz": -540
    },
    "id": "bg0brzv7-fQ0",
    "outputId": "c38388c0-1291-475e-cc55-0cf1685d9918"
   },
   "outputs": [
    {
     "name": "stdout",
     "output_type": "stream",
     "text": [
      "[1,    50] loss: 1.114\n",
      "[1,   100] loss: 1.018\n",
      "[1,   150] loss: 0.944\n",
      "[1,   200] loss: 0.877\n",
      "[1,   250] loss: 0.855\n",
      "[1,   300] loss: 0.809\n",
      "[1,   350] loss: 0.803\n",
      "[1,   400] loss: 0.753\n",
      "[1,   450] loss: 0.740\n",
      "[1,   500] loss: 0.710\n",
      "[1,   550] loss: 0.699\n",
      "[1,   600] loss: 0.692\n",
      "[1,   650] loss: 0.643\n",
      "[1,   700] loss: 0.605\n",
      "[1,   750] loss: 0.626\n",
      "Epoch 1: Loss = 0.048, Accuracy = 42.06%\n",
      "[2,    50] loss: 0.576\n",
      "[2,   100] loss: 0.564\n",
      "[2,   150] loss: 0.526\n",
      "[2,   200] loss: 0.513\n",
      "[2,   250] loss: 0.525\n",
      "[2,   300] loss: 0.487\n",
      "[2,   350] loss: 0.497\n",
      "[2,   400] loss: 0.472\n",
      "[2,   450] loss: 0.456\n",
      "[2,   500] loss: 0.483\n",
      "[2,   550] loss: 0.445\n",
      "[2,   600] loss: 0.437\n",
      "[2,   650] loss: 0.415\n",
      "[2,   700] loss: 0.425\n",
      "[2,   750] loss: 0.433\n",
      "Epoch 2: Loss = 0.033, Accuracy = 66.08%\n",
      "[3,    50] loss: 0.365\n",
      "[3,   100] loss: 0.341\n",
      "[3,   150] loss: 0.326\n",
      "[3,   200] loss: 0.333\n",
      "[3,   250] loss: 0.339\n",
      "[3,   300] loss: 0.320\n",
      "[3,   350] loss: 0.334\n",
      "[3,   400] loss: 0.335\n",
      "[3,   450] loss: 0.319\n",
      "[3,   500] loss: 0.333\n",
      "[3,   550] loss: 0.318\n",
      "[3,   600] loss: 0.322\n",
      "[3,   650] loss: 0.307\n",
      "[3,   700] loss: 0.315\n",
      "[3,   750] loss: 0.316\n",
      "Epoch 3: Loss = 0.025, Accuracy = 77.32%\n",
      "[4,    50] loss: 0.230\n",
      "[4,   100] loss: 0.216\n",
      "[4,   150] loss: 0.213\n",
      "[4,   200] loss: 0.212\n",
      "[4,   250] loss: 0.222\n",
      "[4,   300] loss: 0.219\n",
      "[4,   350] loss: 0.235\n",
      "[4,   400] loss: 0.213\n",
      "[4,   450] loss: 0.224\n",
      "[4,   500] loss: 0.222\n",
      "[4,   550] loss: 0.208\n",
      "[4,   600] loss: 0.204\n",
      "[4,   650] loss: 0.209\n",
      "[4,   700] loss: 0.226\n",
      "[4,   750] loss: 0.218\n",
      "Epoch 4: Loss = 0.017, Accuracy = 84.91%\n",
      "[5,    50] loss: 0.112\n",
      "[5,   100] loss: 0.112\n",
      "[5,   150] loss: 0.122\n",
      "[5,   200] loss: 0.105\n",
      "[5,   250] loss: 0.125\n",
      "[5,   300] loss: 0.135\n",
      "[5,   350] loss: 0.130\n",
      "[5,   400] loss: 0.123\n",
      "[5,   450] loss: 0.115\n",
      "[5,   500] loss: 0.130\n",
      "[5,   550] loss: 0.128\n",
      "[5,   600] loss: 0.140\n",
      "[5,   650] loss: 0.112\n",
      "[5,   700] loss: 0.128\n",
      "[5,   750] loss: 0.126\n",
      "Model saved at epoch 5\n",
      "Epoch 5: Loss = 0.010, Accuracy = 91.66%\n",
      "[6,    50] loss: 0.059\n",
      "[6,   100] loss: 0.067\n",
      "[6,   150] loss: 0.064\n",
      "[6,   200] loss: 0.072\n",
      "[6,   250] loss: 0.059\n",
      "[6,   300] loss: 0.063\n",
      "[6,   350] loss: 0.067\n",
      "[6,   400] loss: 0.076\n",
      "[6,   450] loss: 0.076\n",
      "[6,   500] loss: 0.075\n",
      "[6,   550] loss: 0.077\n",
      "[6,   600] loss: 0.084\n",
      "[6,   650] loss: 0.078\n",
      "[6,   700] loss: 0.066\n",
      "[6,   750] loss: 0.068\n",
      "Epoch 6: Loss = 0.006, Accuracy = 95.34%\n",
      "[7,    50] loss: 0.033\n",
      "[7,   100] loss: 0.038\n",
      "[7,   150] loss: 0.045\n",
      "[7,   200] loss: 0.052\n",
      "[7,   250] loss: 0.039\n",
      "[7,   300] loss: 0.032\n",
      "[7,   350] loss: 0.046\n",
      "[7,   400] loss: 0.045\n",
      "[7,   450] loss: 0.037\n",
      "[7,   500] loss: 0.052\n",
      "[7,   550] loss: 0.059\n",
      "[7,   600] loss: 0.039\n",
      "[7,   650] loss: 0.056\n",
      "[7,   700] loss: 0.040\n",
      "[7,   750] loss: 0.050\n",
      "Epoch 7: Loss = 0.004, Accuracy = 97.14%\n",
      "[8,    50] loss: 0.039\n",
      "[8,   100] loss: 0.024\n",
      "[8,   150] loss: 0.026\n",
      "[8,   200] loss: 0.041\n",
      "[8,   250] loss: 0.032\n",
      "[8,   300] loss: 0.032\n",
      "[8,   350] loss: 0.033\n",
      "[8,   400] loss: 0.037\n",
      "[8,   450] loss: 0.040\n",
      "[8,   500] loss: 0.045\n",
      "[8,   550] loss: 0.039\n",
      "[8,   600] loss: 0.033\n",
      "[8,   650] loss: 0.033\n",
      "[8,   700] loss: 0.037\n",
      "[8,   750] loss: 0.042\n",
      "Epoch 8: Loss = 0.003, Accuracy = 97.64%\n",
      "[9,    50] loss: 0.029\n",
      "[9,   100] loss: 0.032\n",
      "[9,   150] loss: 0.035\n",
      "[9,   200] loss: 0.025\n",
      "[9,   250] loss: 0.029\n",
      "[9,   300] loss: 0.033\n",
      "[9,   350] loss: 0.032\n",
      "[9,   400] loss: 0.032\n",
      "[9,   450] loss: 0.033\n",
      "[9,   500] loss: 0.038\n",
      "[9,   550] loss: 0.035\n",
      "[9,   600] loss: 0.026\n",
      "[9,   650] loss: 0.034\n",
      "[9,   700] loss: 0.037\n",
      "[9,   750] loss: 0.031\n",
      "Epoch 9: Loss = 0.002, Accuracy = 97.83%\n",
      "[10,    50] loss: 0.027\n",
      "[10,   100] loss: 0.027\n",
      "[10,   150] loss: 0.027\n",
      "[10,   200] loss: 0.031\n",
      "[10,   250] loss: 0.019\n",
      "[10,   300] loss: 0.017\n",
      "[10,   350] loss: 0.028\n",
      "[10,   400] loss: 0.035\n",
      "[10,   450] loss: 0.022\n",
      "[10,   500] loss: 0.029\n",
      "[10,   550] loss: 0.031\n",
      "[10,   600] loss: 0.028\n",
      "[10,   650] loss: 0.026\n",
      "[10,   700] loss: 0.024\n",
      "[10,   750] loss: 0.020\n",
      "Epoch 10: Loss = 0.003, Accuracy = 98.23%\n",
      "Finished Training\n"
     ]
    }
   ],
   "source": [
    "losses = []\n",
    "acc = []\n",
    "for epoch in range(10):\n",
    "    running_loss = 0.0\n",
    "    correct = 0\n",
    "    total = 0\n",
    "    for i, data in enumerate(trainloader):\n",
    "        inputs, labels = data\n",
    "        inputs, labels = inputs.to(device), labels.to(device)\n",
    "\n",
    "        optimizer.zero_grad()\n",
    "        outputs = vgg16(inputs)\n",
    "        loss = criterion(outputs, labels)\n",
    "        loss.backward()\n",
    "        optimizer.step()\n",
    "\n",
    "        running_loss += loss.item()\n",
    "        \n",
    "        _, predicted = outputs.max(1)\n",
    "        total += labels.size(0)\n",
    "        correct += predicted.eq(labels).sum().item()\n",
    "        \n",
    "        if (i+1) % 50 == 0:    # 매 20 미니배치마다 출력\n",
    "            print(f\"[{epoch + 1}, {i + 1:5d}] loss: {running_loss / 100:.3f}\")\n",
    "            running_loss = 0.0\n",
    "        \n",
    "    if epoch + 1 == 5:  # 5 에포크마다 모델 저장\n",
    "        checkpoint_path = f\"model_epoch_{epoch + 1}.pth\"\n",
    "        torch.save(vgg16.state_dict(), checkpoint_path)\n",
    "        print(f\"Model saved at epoch {epoch + 1}\")\n",
    "            \n",
    "\n",
    "    accuracy = 100 * correct / total\n",
    "    \n",
    "    losses.append(running_loss / len(trainloader))\n",
    "    acc.append(accuracy)\n",
    "    \n",
    "    print(f\"Epoch {epoch + 1}: Loss = {running_loss / len(trainloader):.3f}, Accuracy = {accuracy:.2f}%\")\n",
    "\n",
    "print(\"Finished Training\")"
   ]
  },
  {
   "cell_type": "code",
   "execution_count": 26,
   "metadata": {},
   "outputs": [],
   "source": [
    "checkpoint_path = f\"model_epoch_10.pth\"\n",
    "torch.save(vgg16.state_dict(), checkpoint_path)"
   ]
  },
  {
   "cell_type": "code",
   "execution_count": 34,
   "metadata": {},
   "outputs": [
    {
     "data": {
      "text/plain": [
       "[<matplotlib.lines.Line2D at 0x203cce90430>]"
      ]
     },
     "execution_count": 34,
     "metadata": {},
     "output_type": "execute_result"
    },
    {
     "data": {
      "image/png": "[encoded data removed]",
      "text/plain": [
       "<Figure size 640x480 with 2 Axes>"
      ]
     },
     "metadata": {},
     "output_type": "display_data"
    }
   ],
   "source": [
    "plt.subplot(2,1,1)\n",
    "plt.plot(losses)\n",
    "plt.subplot(2,1,2)\n",
    "plt.plot(acc)"
   ]
  }
 ],
 "metadata": {
  "accelerator": "GPU",
  "colab": {
   "gpuType": "T4",
   "provenance": []
  },
  "kernelspec": {
   "display_name": "Python 3 (ipykernel)",
   "language": "python",
   "name": "python3"
  },
  "language_info": {
   "codemirror_mode": {
    "name": "ipython",
    "version": 3
   },
   "file_extension": ".py",
   "mimetype": "text/x-python",
   "name": "python",
   "nbconvert_exporter": "python",
   "pygments_lexer": "ipython3",
   "version": "3.10.11"
  }
 },
 "nbformat": 4,
 "nbformat_minor": 1
}
